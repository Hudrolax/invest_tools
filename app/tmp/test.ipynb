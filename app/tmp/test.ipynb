{
 "cells": [
  {
   "cell_type": "code",
   "execution_count": 194,
   "metadata": {},
   "outputs": [],
   "source": [
    "from decimal import Decimal\n",
    "import math\n",
    "\n",
    "def math_round(num: str, prec: int = 0) -> Decimal:\n",
    "    if prec == 0:\n",
    "        return Decimal(math.ceil(Decimal(num)))\n",
    "\n",
    "    first, sec = num.split('.')\n",
    "    for i in reversed(range(len(sec))):\n",
    "        tmp = Decimal(f'{first}.{sec}') * 10**i\n",
    "        if int(str(sec)[-1]) < 5:\n",
    "            tmp = Decimal(math.floor(tmp)) / 10**i\n",
    "        else:\n",
    "            tmp = Decimal(math.ceil(tmp)) / 10**i\n",
    "        first, sec = str(tmp).split('.')\n",
    "        if i <= prec:\n",
    "            return Decimal(tmp)\n",
    "    raise RuntimeError('the universe collapse')"
   ]
  },
  {
   "cell_type": "code",
   "execution_count": 195,
   "metadata": {},
   "outputs": [
    {
     "data": {
      "text/plain": [
       "Decimal('2.44')"
      ]
     },
     "execution_count": 195,
     "metadata": {},
     "output_type": "execute_result"
    }
   ],
   "source": [
    "math_round(str(2.44444), 2)"
   ]
  },
  {
   "cell_type": "code",
   "execution_count": 199,
   "metadata": {},
   "outputs": [
    {
     "data": {
      "text/plain": [
       "'0.30000000000000004'"
      ]
     },
     "execution_count": 199,
     "metadata": {},
     "output_type": "execute_result"
    }
   ],
   "source": [
    "str(0.1 + 0.1 + 0.1)"
   ]
  },
  {
   "cell_type": "code",
   "execution_count": 207,
   "metadata": {},
   "outputs": [
    {
     "data": {
      "text/plain": [
       "Decimal('26.46')"
      ]
     },
     "execution_count": 207,
     "metadata": {},
     "output_type": "execute_result"
    }
   ],
   "source": [
    "round(Decimal('26.455'), 2)"
   ]
  },
  {
   "cell_type": "code",
   "execution_count": 205,
   "metadata": {},
   "outputs": [
    {
     "data": {
      "text/plain": [
       "Decimal('26.46')"
      ]
     },
     "execution_count": 205,
     "metadata": {},
     "output_type": "execute_result"
    }
   ],
   "source": [
    "math_round('26.455', 2)"
   ]
  }
 ],
 "metadata": {
  "kernelspec": {
   "display_name": "venv",
   "language": "python",
   "name": "python3"
  },
  "language_info": {
   "codemirror_mode": {
    "name": "ipython",
    "version": 3
   },
   "file_extension": ".py",
   "mimetype": "text/x-python",
   "name": "python",
   "nbconvert_exporter": "python",
   "pygments_lexer": "ipython3",
   "version": "3.11.5"
  }
 },
 "nbformat": 4,
 "nbformat_minor": 2
}
